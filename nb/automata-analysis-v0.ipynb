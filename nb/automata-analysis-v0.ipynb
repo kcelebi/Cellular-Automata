{
 "cells": [
  {
   "cell_type": "markdown",
   "id": "6d13da26",
   "metadata": {},
   "source": [
    "*This notebook is my own notes / development playground. It will be disorganized in nature. Feel free to skim through.*"
   ]
  },
  {
   "cell_type": "code",
   "execution_count": 1,
   "id": "0c5ebe94",
   "metadata": {},
   "outputs": [],
   "source": [
    "import numpy as np\n",
    "import pandas as pd\n",
    "import matplotlib.pyplot as plt\n",
    "\n",
    "import sys\n",
    "sys.path.append('../src')\n",
    "import automata as atm\n",
    "import analysis as ans\n",
    "from rules import Rules"
   ]
  },
  {
   "cell_type": "code",
   "execution_count": 5,
   "id": "18098664",
   "metadata": {},
   "outputs": [],
   "source": [
    "state = [\n",
    "    [1, 0, 0, 1],\n",
    "    [1, 1, 1, 1],\n",
    "    [0, 0, 0, 0],\n",
    "    [0, 0, 0, 0]\n",
    "]\n",
    "out = ans.play(state, steps = 3, rule = Rules.CONWAY)"
   ]
  },
  {
   "cell_type": "code",
   "execution_count": 24,
   "id": "6f4c7b39",
   "metadata": {},
   "outputs": [
    {
     "data": {
      "image/png": "[encoded data removed]",
      "text/plain": [
       "<Figure size 432x288 with 1 Axes>"
      ]
     },
     "metadata": {
      "needs_background": "light"
     },
     "output_type": "display_data"
    }
   ],
   "source": [
    "fig, axs = plt.subplots()\n",
    "axs.imshow(~out[0], cmap = 'gray')\n",
    "axs.set_xticks(np.arange(len(state))+0.5)\n",
    "axs.set_yticks(np.arange(len(state))+0.5)\n",
    "axs.set_xticklabels([])\n",
    "axs.set_yticklabels([])\n",
    "axs.grid()\n",
    "plt.show()"
   ]
  },
  {
   "cell_type": "code",
   "execution_count": 5,
   "id": "45eee11a",
   "metadata": {},
   "outputs": [
    {
     "data": {
      "text/plain": [
       "array([[2., 4., 4., 2.],\n",
       "       [2., 3., 3., 2.],\n",
       "       [2., 3., 3., 2.],\n",
       "       [0., 0., 0., 0.]])"
      ]
     },
     "execution_count": 5,
     "metadata": {},
     "output_type": "execute_result"
    }
   ],
   "source": [
    "ans.get_alive_matrix(np.array(state))"
   ]
  },
  {
   "cell_type": "markdown",
   "id": "85bae9cf",
   "metadata": {},
   "source": [
    "### Cycle Detection\n",
    "\n",
    "What is a cycle? Intuitively, we understand it as a set of alive cells -- we'll call it a contiguous set\n",
    "- we define contiguous as existing neighbors -- this means diagonals too\n",
    "\n",
    "A contiguous set of alive cells that either oscillates with a \"pair\" set or itself (identity)\n",
    "- let's call this other set its **complement**\n",
    "\n",
    "Can we create the fundamental operations for these automata? How can we define these?\n",
    "\n",
    "\n",
    "Fundamental operations:\n",
    "- and\n",
    "    - would this be superimposing a new cycle on top?\n",
    "- or\n",
    "- negate\n",
    "    - we have (cycle complement)\n",
    "    - this occurs by just updating...\n",
    "- identity\n",
    "    - this occurs by just updating...\n",
    "    \n",
    "Perhaps some cycles have their complement = identity. This would imply that Updating $\\equiv$ negating. No update is identity.\n",
    "- To call an update a negate is a very shady declaration ... it's not a pure negate\n",
    "- it is a deterministic function, but I'm sure we can disprove it using boolean logic\n",
    "    - ie, demonstrate update(A) = A and update(A)\n",
    "    - A = update(A) or A\n",
    "\n",
    "Perhaps we define the and/or operations as just the element-wise and/or of two states? What are the properties of these? What do they give us??\n",
    "\n",
    "Do we need to establish an inverse update? Is it an invertible function? Probably not"
   ]
  },
  {
   "cell_type": "code",
   "execution_count": 24,
   "id": "615b1ade",
   "metadata": {},
   "outputs": [],
   "source": [
    "state = ans.get_random_state((2, 2))\n",
    "state"
   ]
  },
  {
   "cell_type": "code",
   "execution_count": 41,
   "id": "765a7122",
   "metadata": {},
   "outputs": [
    {
     "data": {
      "text/plain": [
       "True"
      ]
     },
     "execution_count": 41,
     "metadata": {},
     "output_type": "execute_result"
    }
   ],
   "source": [
    "np.all(atm.update([\n",
    "\t\t[0, 1, 1, 1, 0, 0],\n",
    "\t\t[0, 1, 0, 0, 0, 0]\n",
    "\t], rule = Rules.CONWAY) == [[0, 1, 1, 0, 0, 0], [0, 1, 0, 0, 0, 0]])"
   ]
  },
  {
   "cell_type": "code",
   "execution_count": 27,
   "id": "282d1836",
   "metadata": {},
   "outputs": [
    {
     "data": {
      "text/plain": [
       "array([[1, 1],\n",
       "       [1, 0]])"
      ]
     },
     "execution_count": 27,
     "metadata": {},
     "output_type": "execute_result"
    }
   ],
   "source": [
    "np.logical_and(atm.update(state), state).astype(int)"
   ]
  },
  {
   "cell_type": "code",
   "execution_count": 28,
   "id": "b6bd8818",
   "metadata": {},
   "outputs": [
    {
     "data": {
      "text/plain": [
       "array([[1, 1],\n",
       "       [1, 1]])"
      ]
     },
     "execution_count": 28,
     "metadata": {},
     "output_type": "execute_result"
    }
   ],
   "source": [
    "np.logical_or(atm.update(state), state).astype(int)"
   ]
  },
  {
   "cell_type": "code",
   "execution_count": 7,
   "id": "8fc3a363",
   "metadata": {},
   "outputs": [
    {
     "data": {
      "text/plain": [
       "array([[0, 0, 1, 1, 0],\n",
       "       [1, 1, 1, 0, 0],\n",
       "       [1, 0, 0, 0, 0],\n",
       "       [1, 0, 0, 0, 1],\n",
       "       [1, 1, 1, 0, 0]])"
      ]
     },
     "execution_count": 7,
     "metadata": {},
     "output_type": "execute_result"
    }
   ],
   "source": [
    "state = ans.get_random_state((5, 5))\n",
    "state"
   ]
  },
  {
   "cell_type": "code",
   "execution_count": 13,
   "id": "cfa03711",
   "metadata": {},
   "outputs": [
    {
     "data": {
      "text/plain": [
       "array([[1, 1, 0, 0, 1],\n",
       "       [0, 0, 0, 1, 1],\n",
       "       [0, 1, 1, 1, 1],\n",
       "       [0, 1, 1, 1, 0],\n",
       "       [0, 0, 0, 1, 1]])"
      ]
     },
     "execution_count": 13,
     "metadata": {},
     "output_type": "execute_result"
    }
   ],
   "source": [
    "np.logical_not(state).astype(int)"
   ]
  },
  {
   "cell_type": "code",
   "execution_count": 24,
   "id": "1a71c907",
   "metadata": {},
   "outputs": [
    {
     "data": {
      "text/plain": [
       "array([[-1, -1],\n",
       "       [ 0, -1],\n",
       "       [ 1, -1],\n",
       "       [-1,  0],\n",
       "       [ 1,  0],\n",
       "       [-1,  1],\n",
       "       [ 0,  1],\n",
       "       [ 1,  1]])"
      ]
     },
     "execution_count": 24,
     "metadata": {},
     "output_type": "execute_result"
    }
   ],
   "source": [
    "atm.get_neighbors(0, 0)"
   ]
  },
  {
   "cell_type": "code",
   "execution_count": 22,
   "id": "47b21960",
   "metadata": {},
   "outputs": [
    {
     "data": {
      "image/png": "[encoded data removed]",
      "text/plain": [
       "<Figure size 432x288 with 1 Axes>"
      ]
     },
     "metadata": {
      "needs_background": "light"
     },
     "output_type": "display_data"
    }
   ],
   "source": [
    "state = ans.get_random_state((5, 5))\n",
    "\n",
    "total = 15\n",
    "states = ans.play(state, n = total)\n",
    "states_neg = ans.play(np.logical_not(state).astype(int), n = total)\n",
    "\n",
    "\n",
    "plt.plot(ans.get_survival_stats(states)[:, 0] / (state.shape[0] * state.shape[1]))\n",
    "plt.plot(ans.get_survival_stats(states_neg)[:, 0] / (state.shape[0] * state.shape[1]))\n",
    "plt.title('Survival for A, negation')\n",
    "plt.xlabel('Time')\n",
    "plt.ylabel('Pct Alive')\n",
    "plt.legend(labels = ['A', '~A'])\n",
    "plt.show()"
   ]
  },
  {
   "cell_type": "markdown",
   "id": "15cfba73",
   "metadata": {},
   "source": [
    "### Testing Rule Integration"
   ]
  },
  {
   "cell_type": "code",
   "execution_count": 2,
   "id": "b2ee2e99",
   "metadata": {},
   "outputs": [
    {
     "data": {
      "text/plain": [
       "array([[0, 0, 0, 1, 0, 0, 0]])"
      ]
     },
     "execution_count": 2,
     "metadata": {},
     "output_type": "execute_result"
    }
   ],
   "source": [
    "state = np.array([0,0,0,1,0,0,0]).reshape((1, -1))\n",
    "state"
   ]
  },
  {
   "cell_type": "code",
   "execution_count": 3,
   "id": "be5c2199",
   "metadata": {},
   "outputs": [
    {
     "name": "stdout",
     "output_type": "stream",
     "text": [
      "|      ██      |\n",
      "----------------------------\n",
      "|    ██████    |\n",
      "----------------------------\n",
      "|  ████    ██  |\n",
      "----------------------------\n",
      "|████  ████████|\n",
      "----------------------------\n",
      "|██    ██    ██|\n",
      "----------------------------\n",
      "|██████████████|\n",
      "----------------------------\n",
      "|██          ██|\n",
      "----------------------------\n",
      "|████      ████|\n",
      "----------------------------\n",
      "|██  ██  ██████|\n",
      "----------------------------\n"
     ]
    }
   ],
   "source": [
    "out = ans.play(state, steps = 10, rule = Rules.RULE30, verbose = True)"
   ]
  },
  {
   "cell_type": "code",
   "execution_count": 9,
   "id": "21f9d915",
   "metadata": {},
   "outputs": [],
   "source": [
    "state = atm.get_random_state((5, 5))\n",
    "out = ans.play(state, steps = 10, rule = Rules.CONWAY)"
   ]
  },
  {
   "cell_type": "code",
   "execution_count": 11,
   "id": "ae73a168",
   "metadata": {},
   "outputs": [
    {
     "ename": "ValueError",
     "evalue": "too many values to unpack (expected 2)",
     "output_type": "error",
     "traceback": [
      "\u001b[0;31m---------------------------------------------------------------------------\u001b[0m",
      "\u001b[0;31mValueError\u001b[0m                                Traceback (most recent call last)",
      "\u001b[0;32m/var/folders/cc/c6pxrx8n6wx77yf6_g8dvdw40000gn/T/ipykernel_6145/48032009.py\u001b[0m in \u001b[0;36m<module>\u001b[0;34m\u001b[0m\n\u001b[0;32m----> 1\u001b[0;31m \u001b[0mans\u001b[0m\u001b[0;34m.\u001b[0m\u001b[0mget_alive_matrix\u001b[0m\u001b[0;34m(\u001b[0m\u001b[0mout\u001b[0m\u001b[0;34m)\u001b[0m\u001b[0;34m\u001b[0m\u001b[0;34m\u001b[0m\u001b[0m\n\u001b[0m",
      "\u001b[0;32m~/Projects/research/cellular-automata/src/analysis.py\u001b[0m in \u001b[0;36mget_alive_matrix\u001b[0;34m(state)\u001b[0m\n\u001b[1;32m     29\u001b[0m         \u001b[0mstate\u001b[0m \u001b[0;34m=\u001b[0m \u001b[0matm\u001b[0m\u001b[0;34m.\u001b[0m\u001b[0mstate_fix\u001b[0m\u001b[0;34m(\u001b[0m\u001b[0mstate\u001b[0m\u001b[0;34m)\u001b[0m\u001b[0;34m\u001b[0m\u001b[0;34m\u001b[0m\u001b[0m\n\u001b[1;32m     30\u001b[0m \u001b[0;34m\u001b[0m\u001b[0m\n\u001b[0;32m---> 31\u001b[0;31m         \u001b[0mx\u001b[0m\u001b[0;34m,\u001b[0m \u001b[0my\u001b[0m \u001b[0;34m=\u001b[0m \u001b[0mstate\u001b[0m\u001b[0;34m.\u001b[0m\u001b[0mshape\u001b[0m\u001b[0;34m\u001b[0m\u001b[0;34m\u001b[0m\u001b[0m\n\u001b[0m\u001b[1;32m     32\u001b[0m         \u001b[0malive_mat\u001b[0m \u001b[0;34m=\u001b[0m \u001b[0mnp\u001b[0m\u001b[0;34m.\u001b[0m\u001b[0mzeros\u001b[0m\u001b[0;34m(\u001b[0m\u001b[0mstate\u001b[0m\u001b[0;34m.\u001b[0m\u001b[0mshape\u001b[0m\u001b[0;34m,\u001b[0m \u001b[0mdtype\u001b[0m \u001b[0;34m=\u001b[0m \u001b[0mint\u001b[0m\u001b[0;34m)\u001b[0m\u001b[0;34m\u001b[0m\u001b[0;34m\u001b[0m\u001b[0m\n\u001b[1;32m     33\u001b[0m         \u001b[0;32mfor\u001b[0m \u001b[0mi\u001b[0m \u001b[0;32min\u001b[0m \u001b[0mrange\u001b[0m\u001b[0;34m(\u001b[0m\u001b[0mx\u001b[0m\u001b[0;34m)\u001b[0m\u001b[0;34m:\u001b[0m\u001b[0;34m\u001b[0m\u001b[0;34m\u001b[0m\u001b[0m\n",
      "\u001b[0;31mValueError\u001b[0m: too many values to unpack (expected 2)"
     ]
    }
   ],
   "source": [
    "ans.get_alive_matrix(out)"
   ]
  },
  {
   "cell_type": "code",
   "execution_count": 15,
   "id": "dd3b7c8c",
   "metadata": {},
   "outputs": [
    {
     "data": {
      "text/plain": [
       "array([[1, 0, 0, 1, 1],\n",
       "       [0, 1, 1, 0, 0],\n",
       "       [0, 0, 1, 1, 1],\n",
       "       [0, 1, 0, 1, 1],\n",
       "       [0, 1, 0, 0, 0]])"
      ]
     },
     "execution_count": 15,
     "metadata": {},
     "output_type": "execute_result"
    }
   ],
   "source": [
    "out[0]"
   ]
  },
  {
   "cell_type": "code",
   "execution_count": 26,
   "id": "481183f3",
   "metadata": {},
   "outputs": [
    {
     "data": {
      "text/plain": [
       "array([[1, 0],\n",
       "       [0, 1],\n",
       "       [1, 1]])"
      ]
     },
     "execution_count": 26,
     "metadata": {},
     "output_type": "execute_result"
    }
   ],
   "source": [
    "atm.get_neighbors(0, 0, (5,5))"
   ]
  },
  {
   "cell_type": "code",
   "execution_count": 35,
   "id": "6564f077",
   "metadata": {},
   "outputs": [],
   "source": [
    "f = np.vectorize(ans.get_alive_matrix)"
   ]
  },
  {
   "cell_type": "code",
   "execution_count": 39,
   "id": "8f809a1e",
   "metadata": {},
   "outputs": [
    {
     "data": {
      "text/plain": [
       "array([[1, 3, 3, 2, 1],\n",
       "       [2, 3, 4, 6, 4],\n",
       "       [2, 4, 5, 5, 3],\n",
       "       [2, 2, 5, 4, 3],\n",
       "       [2, 1, 3, 2, 2]])"
      ]
     },
     "execution_count": 39,
     "metadata": {},
     "output_type": "execute_result"
    }
   ],
   "source": [
    "ans.get_alive_matrix(out[0])"
   ]
  },
  {
   "cell_type": "code",
   "execution_count": 40,
   "id": "91d3e52f",
   "metadata": {},
   "outputs": [
    {
     "data": {
      "text/plain": [
       "array([[2, 2, 3, 1, 1],\n",
       "       [2, 2, 4, 3, 2],\n",
       "       [2, 2, 2, 2, 1],\n",
       "       [1, 1, 2, 3, 1],\n",
       "       [1, 2, 1, 2, 1]])"
      ]
     },
     "execution_count": 40,
     "metadata": {},
     "output_type": "execute_result"
    }
   ],
   "source": [
    "ans.get_alive_matrix(out[1])"
   ]
  },
  {
   "cell_type": "code",
   "execution_count": 72,
   "id": "edece9a0",
   "metadata": {},
   "outputs": [
    {
     "data": {
      "text/plain": [
       "2.25"
      ]
     },
     "execution_count": 72,
     "metadata": {},
     "output_type": "execute_result"
    }
   ],
   "source": [
    "am = ans.get_alive_matrix(out[0])\n",
    "am[0:2, 0:2].mean()"
   ]
  },
  {
   "cell_type": "code",
   "execution_count": 77,
   "id": "6bbde2aa",
   "metadata": {},
   "outputs": [
    {
     "data": {
      "text/plain": [
       "array([[1, 3, 3, 2, 1],\n",
       "       [2, 3, 4, 6, 4],\n",
       "       [2, 4, 5, 5, 3],\n",
       "       [2, 2, 5, 4, 3],\n",
       "       [2, 1, 3, 2, 2]])"
      ]
     },
     "execution_count": 77,
     "metadata": {},
     "output_type": "execute_result"
    }
   ],
   "source": [
    "am"
   ]
  },
  {
   "cell_type": "code",
   "execution_count": 79,
   "id": "e2cde96c",
   "metadata": {},
   "outputs": [
    {
     "data": {
      "text/plain": [
       "array([[1, 3, 3, 2, 1],\n",
       "       [2, 4, 5, 6, 4]])"
      ]
     },
     "execution_count": 79,
     "metadata": {},
     "output_type": "execute_result"
    }
   ],
   "source": [
    "np.maximum.reduceat(am, [0, 1])"
   ]
  },
  {
   "cell_type": "code",
   "execution_count": 59,
   "id": "3b58c967",
   "metadata": {},
   "outputs": [
    {
     "data": {
      "image/png": "[encoded data removed]",
      "text/plain": [
       "<Figure size 432x288 with 1 Axes>"
      ]
     },
     "metadata": {
      "needs_background": "light"
     },
     "output_type": "display_data"
    }
   ],
   "source": [
    "plt.imshow(np.cov(out[0].reshape(-1), out[1].reshape(-1)), cmap = 'gray')\n",
    "plt.show()"
   ]
  },
  {
   "cell_type": "code",
   "execution_count": 54,
   "id": "d7a778ae",
   "metadata": {},
   "outputs": [],
   "source": [
    "cov = np.array([np.cov(out[i], out[i+1]).reshape(-1) for i in range(out.shape[0]-1)])"
   ]
  },
  {
   "cell_type": "code",
   "execution_count": 55,
   "id": "745885f1",
   "metadata": {},
   "outputs": [
    {
     "data": {
      "text/plain": [
       "(9, 100)"
      ]
     },
     "execution_count": 55,
     "metadata": {},
     "output_type": "execute_result"
    }
   ],
   "source": [
    "cov.shape"
   ]
  },
  {
   "cell_type": "code",
   "execution_count": 57,
   "id": "76365ec8",
   "metadata": {},
   "outputs": [
    {
     "data": {
      "image/png": "[encoded data removed]",
      "text/plain": [
       "<Figure size 432x288 with 1 Axes>"
      ]
     },
     "metadata": {
      "needs_background": "light"
     },
     "output_type": "display_data"
    }
   ],
   "source": [
    "plt.plot(cov)\n",
    "plt.show()"
   ]
  },
  {
   "cell_type": "code",
   "execution_count": null,
   "id": "13ecc371",
   "metadata": {},
   "outputs": [],
   "source": []
  }
 ],
 "metadata": {
  "kernelspec": {
   "display_name": "Python 3 (ipykernel)",
   "language": "python",
   "name": "python3"
  },
  "language_info": {
   "codemirror_mode": {
    "name": "ipython",
    "version": 3
   },
   "file_extension": ".py",
   "mimetype": "text/x-python",
   "name": "python",
   "nbconvert_exporter": "python",
   "pygments_lexer": "ipython3",
   "version": "3.8.0"
  }
 },
 "nbformat": 4,
 "nbformat_minor": 5
}
