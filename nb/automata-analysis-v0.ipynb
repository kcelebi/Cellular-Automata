{
 "cells": [
  {
   "cell_type": "code",
   "execution_count": 1,
   "id": "f1e95945",
   "metadata": {},
   "outputs": [],
   "source": [
    "import numpy as np\n",
    "import pandas as pd\n",
    "import matplotlib.pyplot as plt\n",
    "\n",
    "import sys\n",
    "sys.path.append('../src')\n",
    "import automata as atm\n",
    "import analysis as ans"
   ]
  },
  {
   "cell_type": "code",
   "execution_count": 2,
   "id": "fad72155",
   "metadata": {},
   "outputs": [],
   "source": [
    "state = [\n",
    "    [1, 0, 0],\n",
    "    [1, 1, 1],\n",
    "    [1, 1, 1]\n",
    "]"
   ]
  },
  {
   "cell_type": "code",
   "execution_count": 3,
   "id": "4f5ea450",
   "metadata": {
    "scrolled": true
   },
   "outputs": [
    {
     "name": "stdout",
     "output_type": "stream",
     "text": [
      "|██    |\n",
      "|██████|\n",
      "|██████|\n",
      "\n",
      "i=0|-------\n",
      "|  ██  |\n",
      "|  ██  |\n",
      "|  ██  |\n",
      "\n",
      "i=1|-------\n"
     ]
    },
    {
     "data": {
      "text/plain": [
       "[[0, 0, 0], [0, 0, 0], [0, 0, 0]]"
      ]
     },
     "execution_count": 3,
     "metadata": {},
     "output_type": "execute_result"
    }
   ],
   "source": [
    "atm.play(state, 10, verbose = True)"
   ]
  },
  {
   "cell_type": "code",
   "execution_count": 7,
   "id": "8e913f8d",
   "metadata": {},
   "outputs": [
    {
     "data": {
      "image/png": "[encoded data removed]",
      "text/plain": [
       "<Figure size 432x288 with 1 Axes>"
      ]
     },
     "metadata": {
      "needs_background": "light"
     },
     "output_type": "display_data"
    }
   ],
   "source": [
    "'''state = [\n",
    "    [1, 1, 0, 0],\n",
    "    [1, 0, 0, 0],\n",
    "    [1, 1, 0, 0],\n",
    "    [0, 0, 0, 0]\n",
    "]'''\n",
    "\n",
    "state = ans.get_random_state((5,5))\n",
    "\n",
    "states = [state]\n",
    "for _ in range(10):\n",
    "    state = atm.update(state)\n",
    "    states += [state]\n",
    "\n",
    "plt.plot(ans.get_survival_stats(states))\n",
    "plt.legend(labels = ['alive', 'dead'])\n",
    "plt.show()\n",
    "    "
   ]
  },
  {
   "cell_type": "code",
   "execution_count": 8,
   "id": "149a39ae",
   "metadata": {},
   "outputs": [
    {
     "data": {
      "text/plain": [
       "array([[1, 1, 1, 0, 0],\n",
       "       [1, 0, 0, 1, 1],\n",
       "       [0, 0, 1, 1, 1],\n",
       "       [0, 1, 0, 1, 0],\n",
       "       [1, 0, 1, 0, 1]])"
      ]
     },
     "execution_count": 8,
     "metadata": {},
     "output_type": "execute_result"
    }
   ],
   "source": [
    "np.random.randint(0, 2, (5,5))"
   ]
  },
  {
   "cell_type": "code",
   "execution_count": null,
   "id": "c13fc285",
   "metadata": {},
   "outputs": [],
   "source": []
  }
 ],
 "metadata": {
  "kernelspec": {
   "display_name": "Python 3 (ipykernel)",
   "language": "python",
   "name": "python3"
  },
  "language_info": {
   "codemirror_mode": {
    "name": "ipython",
    "version": 3
   },
   "file_extension": ".py",
   "mimetype": "text/x-python",
   "name": "python",
   "nbconvert_exporter": "python",
   "pygments_lexer": "ipython3",
   "version": "3.8.0"
  }
 },
 "nbformat": 4,
 "nbformat_minor": 5
}
