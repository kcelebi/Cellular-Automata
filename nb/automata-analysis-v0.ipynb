{
 "cells": [
  {
   "cell_type": "markdown",
   "id": "18018bf7",
   "metadata": {},
   "source": [
    "*This notebook is my own notes / development playground. It will be disorganized in nature. Feel free to skim through.*"
   ]
  },
  {
   "cell_type": "code",
   "execution_count": 1,
   "id": "0c5ebe94",
   "metadata": {},
   "outputs": [],
   "source": [
    "import numpy as np\n",
    "import pandas as pd\n",
    "import matplotlib.pyplot as plt\n",
    "\n",
    "import sys\n",
    "sys.path.append('../src')\n",
    "import automata as atm\n",
    "import analysis as ans"
   ]
  },
  {
   "cell_type": "code",
   "execution_count": 2,
   "id": "18098664",
   "metadata": {},
   "outputs": [],
   "source": [
    "state = [\n",
    "    [1, 0, 0, 1],\n",
    "    [1, 1, 1, 1],\n",
    "    [0, 0, 0, 0],\n",
    "    [0, 0, 0, 0]\n",
    "]\n",
    "#atm.play(state, 10, verbose = True)"
   ]
  },
  {
   "cell_type": "code",
   "execution_count": 3,
   "id": "45eee11a",
   "metadata": {},
   "outputs": [
    {
     "data": {
      "text/plain": [
       "array([[2., 4., 4., 2.],\n",
       "       [2., 3., 3., 2.],\n",
       "       [2., 3., 3., 2.],\n",
       "       [0., 0., 0., 0.]])"
      ]
     },
     "execution_count": 3,
     "metadata": {},
     "output_type": "execute_result"
    }
   ],
   "source": [
    "ans.get_alive_matrix(np.array(state))"
   ]
  },
  {
   "cell_type": "markdown",
   "id": "40c1a0ab",
   "metadata": {},
   "source": [
    "### Cycle Detection\n",
    "\n",
    "What is a cycle? Intuitively, we understand it as a set of alive cells -- we'll call it a contiguous set\n",
    "- we define contiguous as existing neighbors -- this means diagonals too\n",
    "\n",
    "A contiguous set of alive cells that either oscillates with a \"pair\" set or itself (identity)\n",
    "- let's call this other set its **complement**\n",
    "\n",
    "Can we create the fundamental operations for these automata? How can we define these?\n",
    "\n",
    "\n",
    "Fundamental operations:\n",
    "- and\n",
    "    - would this be superimposing a new cycle on top?\n",
    "- or\n",
    "- negate\n",
    "    - we have (cycle complement)\n",
    "    - this occurs by just updating...\n",
    "- identity\n",
    "    - this occurs by just updating...\n",
    "    \n",
    "Perhaps some cycles have their complement = identity. This would imply that Updating $\\equiv$ negating. No update is identity.\n",
    "- To call an update a negate is a very shady declaration ... it's not a pure negate\n",
    "- it is a deterministic function, but I'm sure we can disprove it using boolean logic\n",
    "    - ie, demonstrate update(A) = A and update(A)\n",
    "    - A = update(A) or A\n",
    "\n",
    "Perhaps we define the and/or operations as just the element-wise and/or of two states? What are the properties of these? What do they give us??"
   ]
  },
  {
   "cell_type": "code",
   "execution_count": 16,
   "id": "d25391e9",
   "metadata": {},
   "outputs": [],
   "source": [
    "state = ans.get_random_state((5, 5))"
   ]
  },
  {
   "cell_type": "code",
   "execution_count": 17,
   "id": "f2ced797",
   "metadata": {},
   "outputs": [
    {
     "data": {
      "text/plain": [
       "array([[1, 1, 0, 0, 0],\n",
       "       [1, 1, 1, 0, 1],\n",
       "       [0, 0, 1, 1, 0],\n",
       "       [0, 0, 0, 1, 1],\n",
       "       [0, 1, 1, 1, 0]])"
      ]
     },
     "execution_count": 17,
     "metadata": {},
     "output_type": "execute_result"
    }
   ],
   "source": [
    "state"
   ]
  },
  {
   "cell_type": "code",
   "execution_count": 22,
   "id": "fb87b51d",
   "metadata": {},
   "outputs": [
    {
     "data": {
      "text/plain": [
       "array([[1, 0, 1, 0, 0],\n",
       "       [1, 0, 0, 0, 0],\n",
       "       [0, 0, 0, 0, 0],\n",
       "       [0, 1, 0, 0, 1],\n",
       "       [0, 0, 1, 1, 1]])"
      ]
     },
     "execution_count": 22,
     "metadata": {},
     "output_type": "execute_result"
    }
   ],
   "source": [
    "atm.update(state).astype(int)"
   ]
  },
  {
   "cell_type": "code",
   "execution_count": 21,
   "id": "6f23e3bb",
   "metadata": {},
   "outputs": [
    {
     "data": {
      "text/plain": [
       "array([[1, 0, 0, 0, 0],\n",
       "       [1, 0, 0, 0, 0],\n",
       "       [0, 0, 0, 0, 0],\n",
       "       [0, 0, 0, 0, 1],\n",
       "       [0, 0, 1, 1, 0]])"
      ]
     },
     "execution_count": 21,
     "metadata": {},
     "output_type": "execute_result"
    }
   ],
   "source": [
    "np.logical_and(atm.update(state), state).astype(int)"
   ]
  },
  {
   "cell_type": "code",
   "execution_count": 8,
   "id": "b9a7f80e",
   "metadata": {},
   "outputs": [
    {
     "name": "stdout",
     "output_type": "stream",
     "text": [
      "|██    ██|\n",
      "|████████|\n",
      "|        |\n",
      "|    ██  |\n",
      "\n",
      "i=0|-------\n",
      "|██    ██|\n",
      "|████████|\n",
      "|      ██|\n",
      "|        |\n",
      "\n",
      "i=1|-------\n",
      "|██    ██|\n",
      "|████  ██|\n",
      "|  ██  ██|\n",
      "|        |\n",
      "\n",
      "i=2|-------\n",
      "|██████  |\n",
      "|████  ██|\n",
      "|████    |\n",
      "|        |\n",
      "\n",
      "i=3|-------\n",
      "|██  ██  |\n",
      "|        |\n",
      "|██████  |\n",
      "|        |\n",
      "\n",
      "i=4|-------\n",
      "|        |\n",
      "|██  ██  |\n",
      "|  ██    |\n",
      "|  ██    |\n",
      "\n",
      "i=5|-------\n",
      "|        |\n",
      "|  ██    |\n",
      "|██████  |\n",
      "|        |\n",
      "\n",
      "i=6|-------\n",
      "|        |\n",
      "|██████  |\n",
      "|██████  |\n",
      "|  ██    |\n",
      "\n",
      "i=7|-------\n",
      "|  ██    |\n",
      "|██  ██  |\n",
      "|        |\n",
      "|██████  |\n",
      "\n",
      "i=8|-------\n",
      "|  ██    |\n",
      "|  ██    |\n",
      "|██  ██  |\n",
      "|  ██    |\n",
      "\n",
      "i=9|-------\n",
      "|        |\n",
      "|██████  |\n",
      "|██  ██  |\n",
      "|  ██    |\n",
      "\n",
      "i=10|-------\n",
      "|  ██    |\n",
      "|██  ██  |\n",
      "|██  ██  |\n",
      "|  ██    |\n",
      "\n",
      "i=11|-------\n",
      "|  ██    |\n",
      "|██  ██  |\n",
      "|██  ██  |\n",
      "|  ██    |\n",
      "\n",
      "i=12|-------\n",
      "|  ██    |\n",
      "|██  ██  |\n",
      "|██  ██  |\n",
      "|  ██    |\n",
      "\n",
      "i=13|-------\n",
      "|  ██    |\n",
      "|██  ██  |\n",
      "|██  ██  |\n",
      "|  ██    |\n",
      "\n",
      "i=14|-------\n"
     ]
    },
    {
     "data": {
      "image/png": "[encoded data removed]",
      "text/plain": [
       "<Figure size 432x288 with 1 Axes>"
      ]
     },
     "metadata": {
      "needs_background": "light"
     },
     "output_type": "display_data"
    }
   ],
   "source": [
    "state = [\n",
    "    [1, 0, 0, 1],\n",
    "    [1, 1, 1, 1],\n",
    "    [0, 0, 0, 0],\n",
    "    [0, 0, 1, 0]\n",
    "]\n",
    "states = ans.play(np.array(state), n = 15, verbose = True)\n",
    "\n",
    "plt.plot(ans.get_survival_stats(states))\n",
    "plt.legend(labels = ['alive', 'dead'])\n",
    "plt.show()"
   ]
  },
  {
   "cell_type": "code",
   "execution_count": null,
   "id": "82707fd4",
   "metadata": {},
   "outputs": [],
   "source": []
  }
 ],
 "metadata": {
  "kernelspec": {
   "display_name": "Python 3 (ipykernel)",
   "language": "python",
   "name": "python3"
  },
  "language_info": {
   "codemirror_mode": {
    "name": "ipython",
    "version": 3
   },
   "file_extension": ".py",
   "mimetype": "text/x-python",
   "name": "python",
   "nbconvert_exporter": "python",
   "pygments_lexer": "ipython3",
   "version": "3.8.0"
  }
 },
 "nbformat": 4,
 "nbformat_minor": 5
}
