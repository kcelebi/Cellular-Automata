{
 "cells": [
  {
   "cell_type": "code",
   "execution_count": 1,
   "id": "0c5ebe94",
   "metadata": {},
   "outputs": [],
   "source": [
    "import numpy as np\n",
    "import pandas as pd\n",
    "import matplotlib.pyplot as plt\n",
    "\n",
    "import sys\n",
    "sys.path.append('../src')\n",
    "import automata as atm\n",
    "import analysis as ans"
   ]
  },
  {
   "cell_type": "code",
   "execution_count": 2,
   "id": "18098664",
   "metadata": {},
   "outputs": [],
   "source": [
    "state = [\n",
    "    [1, 0, 0, 1],\n",
    "    [1, 1, 1, 1],\n",
    "    [0, 0, 0, 0],\n",
    "    [0, 0, 0, 0]\n",
    "]\n",
    "#atm.play(state, 10, verbose = True)"
   ]
  },
  {
   "cell_type": "code",
   "execution_count": 3,
   "id": "45eee11a",
   "metadata": {},
   "outputs": [
    {
     "data": {
      "text/plain": [
       "array([[2., 4., 4., 2.],\n",
       "       [2., 3., 3., 2.],\n",
       "       [2., 3., 3., 2.],\n",
       "       [0., 0., 0., 0.]])"
      ]
     },
     "execution_count": 3,
     "metadata": {},
     "output_type": "execute_result"
    }
   ],
   "source": [
    "ans.get_alive_matrix(np.array(state))"
   ]
  },
  {
   "cell_type": "code",
   "execution_count": 7,
   "id": "6d5f4c74",
   "metadata": {},
   "outputs": [
    {
     "data": {
      "image/png": "[encoded data removed]",
      "text/plain": [
       "<Figure size 432x288 with 1 Axes>"
      ]
     },
     "metadata": {
      "needs_background": "light"
     },
     "output_type": "display_data"
    }
   ],
   "source": [
    "state = [\n",
    "    [1, 0, 0, 1],\n",
    "    [1, 1, 1, 1],\n",
    "    [0, 0, 0, 0],\n",
    "    [0, 0, 0, 0]\n",
    "]\n",
    "#state = ans.get_random_state((5,5))\n",
    "\n",
    "states = [np.array(state)]\n",
    "for _ in range(15):\n",
    "    state = atm.update(np.array(state))\n",
    "    states += [state]\n",
    "\n",
    "plt.plot(ans.get_survival_stats(states))\n",
    "plt.legend(labels = ['alive', 'dead'])\n",
    "plt.show()\n",
    "    "
   ]
  },
  {
   "cell_type": "code",
   "execution_count": null,
   "id": "c1422ef9",
   "metadata": {},
   "outputs": [],
   "source": []
  }
 ],
 "metadata": {
  "kernelspec": {
   "display_name": "Python 3 (ipykernel)",
   "language": "python",
   "name": "python3"
  },
  "language_info": {
   "codemirror_mode": {
    "name": "ipython",
    "version": 3
   },
   "file_extension": ".py",
   "mimetype": "text/x-python",
   "name": "python",
   "nbconvert_exporter": "python",
   "pygments_lexer": "ipython3",
   "version": "3.8.0"
  }
 },
 "nbformat": 4,
 "nbformat_minor": 5
}
