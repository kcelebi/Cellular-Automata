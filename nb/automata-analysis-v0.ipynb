{
 "cells": [
  {
   "cell_type": "markdown",
   "id": "28f55281",
   "metadata": {},
   "source": [
    "*This notebook is my own notes / development playground. It will be disorganized in nature. Feel free to skim through.*"
   ]
  },
  {
   "cell_type": "code",
   "execution_count": 1,
   "id": "0c5ebe94",
   "metadata": {},
   "outputs": [],
   "source": [
    "import numpy as np\n",
    "import pandas as pd\n",
    "import matplotlib.pyplot as plt\n",
    "\n",
    "import sys\n",
    "sys.path.append('../src')\n",
    "import automata as atm\n",
    "import analysis as ans\n",
    "from rules import Rules"
   ]
  },
  {
   "cell_type": "code",
   "execution_count": 4,
   "id": "18098664",
   "metadata": {},
   "outputs": [
    {
     "name": "stdout",
     "output_type": "stream",
     "text": [
      "|██    ██|\n",
      "|████████|\n",
      "|        |\n",
      "|        |\n",
      "\n",
      "i=0|-------\n",
      "|██    ██|\n",
      "|████████|\n",
      "|  ████  |\n",
      "|        |\n",
      "\n",
      "i=1|-------\n",
      "|██    ██|\n",
      "|██    ██|\n",
      "|██    ██|\n",
      "|        |\n",
      "\n",
      "i=2|-------\n"
     ]
    }
   ],
   "source": [
    "state = [\n",
    "    [1, 0, 0, 1],\n",
    "    [1, 1, 1, 1],\n",
    "    [0, 0, 0, 0],\n",
    "    [0, 0, 0, 0]\n",
    "]\n",
    "out = ans.play(state, steps = 3, rule = Rules.CONWAY, verbose = True)"
   ]
  },
  {
   "cell_type": "code",
   "execution_count": 5,
   "id": "45eee11a",
   "metadata": {},
   "outputs": [
    {
     "data": {
      "text/plain": [
       "array([[2., 4., 4., 2.],\n",
       "       [2., 3., 3., 2.],\n",
       "       [2., 3., 3., 2.],\n",
       "       [0., 0., 0., 0.]])"
      ]
     },
     "execution_count": 5,
     "metadata": {},
     "output_type": "execute_result"
    }
   ],
   "source": [
    "ans.get_alive_matrix(np.array(state))"
   ]
  },
  {
   "cell_type": "markdown",
   "id": "f5c0f1f4",
   "metadata": {},
   "source": [
    "### Cycle Detection\n",
    "\n",
    "What is a cycle? Intuitively, we understand it as a set of alive cells -- we'll call it a contiguous set\n",
    "- we define contiguous as existing neighbors -- this means diagonals too\n",
    "\n",
    "A contiguous set of alive cells that either oscillates with a \"pair\" set or itself (identity)\n",
    "- let's call this other set its **complement**\n",
    "\n",
    "Can we create the fundamental operations for these automata? How can we define these?\n",
    "\n",
    "\n",
    "Fundamental operations:\n",
    "- and\n",
    "    - would this be superimposing a new cycle on top?\n",
    "- or\n",
    "- negate\n",
    "    - we have (cycle complement)\n",
    "    - this occurs by just updating...\n",
    "- identity\n",
    "    - this occurs by just updating...\n",
    "    \n",
    "Perhaps some cycles have their complement = identity. This would imply that Updating $\\equiv$ negating. No update is identity.\n",
    "- To call an update a negate is a very shady declaration ... it's not a pure negate\n",
    "- it is a deterministic function, but I'm sure we can disprove it using boolean logic\n",
    "    - ie, demonstrate update(A) = A and update(A)\n",
    "    - A = update(A) or A\n",
    "\n",
    "Perhaps we define the and/or operations as just the element-wise and/or of two states? What are the properties of these? What do they give us??\n",
    "\n",
    "Do we need to establish an inverse update? Is it an invertible function? Probably not"
   ]
  },
  {
   "cell_type": "code",
   "execution_count": 24,
   "id": "e3be0f1e",
   "metadata": {},
   "outputs": [],
   "source": [
    "state = ans.get_random_state((2, 2))\n",
    "state"
   ]
  },
  {
   "cell_type": "code",
   "execution_count": 26,
   "id": "ed4450df",
   "metadata": {},
   "outputs": [
    {
     "data": {
      "text/plain": [
       "array([[1, 1],\n",
       "       [1, 1]])"
      ]
     },
     "execution_count": 26,
     "metadata": {},
     "output_type": "execute_result"
    }
   ],
   "source": [
    "atm.update(state).astype(int)"
   ]
  },
  {
   "cell_type": "code",
   "execution_count": 27,
   "id": "11d049c9",
   "metadata": {},
   "outputs": [
    {
     "data": {
      "text/plain": [
       "array([[1, 1],\n",
       "       [1, 0]])"
      ]
     },
     "execution_count": 27,
     "metadata": {},
     "output_type": "execute_result"
    }
   ],
   "source": [
    "np.logical_and(atm.update(state), state).astype(int)"
   ]
  },
  {
   "cell_type": "code",
   "execution_count": 28,
   "id": "8208cf4e",
   "metadata": {},
   "outputs": [
    {
     "data": {
      "text/plain": [
       "array([[1, 1],\n",
       "       [1, 1]])"
      ]
     },
     "execution_count": 28,
     "metadata": {},
     "output_type": "execute_result"
    }
   ],
   "source": [
    "np.logical_or(atm.update(state), state).astype(int)"
   ]
  },
  {
   "cell_type": "code",
   "execution_count": 7,
   "id": "c7113d82",
   "metadata": {},
   "outputs": [
    {
     "data": {
      "text/plain": [
       "array([[0, 0, 1, 1, 0],\n",
       "       [1, 1, 1, 0, 0],\n",
       "       [1, 0, 0, 0, 0],\n",
       "       [1, 0, 0, 0, 1],\n",
       "       [1, 1, 1, 0, 0]])"
      ]
     },
     "execution_count": 7,
     "metadata": {},
     "output_type": "execute_result"
    }
   ],
   "source": [
    "state = ans.get_random_state((5, 5))\n",
    "state"
   ]
  },
  {
   "cell_type": "code",
   "execution_count": 13,
   "id": "d062069e",
   "metadata": {},
   "outputs": [
    {
     "data": {
      "text/plain": [
       "array([[1, 1, 0, 0, 1],\n",
       "       [0, 0, 0, 1, 1],\n",
       "       [0, 1, 1, 1, 1],\n",
       "       [0, 1, 1, 1, 0],\n",
       "       [0, 0, 0, 1, 1]])"
      ]
     },
     "execution_count": 13,
     "metadata": {},
     "output_type": "execute_result"
    }
   ],
   "source": [
    "np.logical_not(state).astype(int)"
   ]
  },
  {
   "cell_type": "code",
   "execution_count": 24,
   "id": "422a7692",
   "metadata": {},
   "outputs": [
    {
     "data": {
      "text/plain": [
       "array([[-1, -1],\n",
       "       [ 0, -1],\n",
       "       [ 1, -1],\n",
       "       [-1,  0],\n",
       "       [ 1,  0],\n",
       "       [-1,  1],\n",
       "       [ 0,  1],\n",
       "       [ 1,  1]])"
      ]
     },
     "execution_count": 24,
     "metadata": {},
     "output_type": "execute_result"
    }
   ],
   "source": [
    "atm.get_neighbors(0, 0)"
   ]
  },
  {
   "cell_type": "code",
   "execution_count": 22,
   "id": "778b4ae1",
   "metadata": {},
   "outputs": [
    {
     "data": {
      "image/png": "[encoded data removed]",
      "text/plain": [
       "<Figure size 432x288 with 1 Axes>"
      ]
     },
     "metadata": {
      "needs_background": "light"
     },
     "output_type": "display_data"
    }
   ],
   "source": [
    "state = ans.get_random_state((5, 5))\n",
    "\n",
    "total = 15\n",
    "states = ans.play(state, n = total)\n",
    "states_neg = ans.play(np.logical_not(state).astype(int), n = total)\n",
    "\n",
    "\n",
    "plt.plot(ans.get_survival_stats(states)[:, 0] / (state.shape[0] * state.shape[1]))\n",
    "plt.plot(ans.get_survival_stats(states_neg)[:, 0] / (state.shape[0] * state.shape[1]))\n",
    "plt.title('Survival for A, negation')\n",
    "plt.xlabel('Time')\n",
    "plt.ylabel('Pct Alive')\n",
    "plt.legend(labels = ['A', '~A'])\n",
    "plt.show()"
   ]
  },
  {
   "cell_type": "markdown",
   "id": "80c4f9a6",
   "metadata": {},
   "source": [
    "### Testing Rule Integration"
   ]
  },
  {
   "cell_type": "code",
   "execution_count": 7,
   "id": "8e6af9c5",
   "metadata": {},
   "outputs": [
    {
     "data": {
      "text/plain": [
       "array([[0, 0, 0, 1, 0, 0, 0]])"
      ]
     },
     "execution_count": 7,
     "metadata": {},
     "output_type": "execute_result"
    }
   ],
   "source": [
    "state = np.array([0,0,0,1,0,0,0]).reshape((1, -1))\n",
    "state"
   ]
  },
  {
   "cell_type": "code",
   "execution_count": 8,
   "id": "46a79320",
   "metadata": {},
   "outputs": [
    {
     "name": "stdout",
     "output_type": "stream",
     "text": [
      "|      ██      |\n",
      "-------\n",
      "|    ██████    |\n",
      "-------\n",
      "|  ████    ██  |\n",
      "-------\n",
      "|████  ████████|\n",
      "-------\n",
      "|██    ██    ██|\n",
      "-------\n",
      "|██████████████|\n",
      "-------\n",
      "|██          ██|\n",
      "-------\n",
      "|████      ████|\n",
      "-------\n",
      "|██  ██  ██████|\n",
      "-------\n",
      "|██  ██  ██  ██|\n",
      "-------\n"
     ]
    }
   ],
   "source": [
    "out = ans.play(state, steps = 10, rule = Rules.RULE30, verbose = True)"
   ]
  },
  {
   "cell_type": "code",
   "execution_count": null,
   "id": "28691145",
   "metadata": {},
   "outputs": [],
   "source": []
  }
 ],
 "metadata": {
  "kernelspec": {
   "display_name": "Python 3 (ipykernel)",
   "language": "python",
   "name": "python3"
  },
  "language_info": {
   "codemirror_mode": {
    "name": "ipython",
    "version": 3
   },
   "file_extension": ".py",
   "mimetype": "text/x-python",
   "name": "python",
   "nbconvert_exporter": "python",
   "pygments_lexer": "ipython3",
   "version": "3.8.0"
  }
 },
 "nbformat": 4,
 "nbformat_minor": 5
}
