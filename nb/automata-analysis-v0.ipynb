{
 "cells": [
  {
   "cell_type": "markdown",
   "id": "62ebc07b",
   "metadata": {},
   "source": [
    "*This notebook is my own notes / development playground. It will be disorganized in nature. Feel free to skim through.*"
   ]
  },
  {
   "cell_type": "code",
   "execution_count": 1,
   "id": "0c5ebe94",
   "metadata": {},
   "outputs": [],
   "source": [
    "import numpy as np\n",
    "import pandas as pd\n",
    "import matplotlib.pyplot as plt\n",
    "\n",
    "import sys\n",
    "sys.path.append('../src')\n",
    "import sim.automata as atm\n",
    "import analysis.analysis as ans\n",
    "import analysis.stats as stats\n",
    "from sim.rules import Rules\n",
    "import sim.sim as sim\n"
   ]
  },
  {
   "cell_type": "code",
   "execution_count": 5,
   "id": "18098664",
   "metadata": {},
   "outputs": [],
   "source": [
    "state = [\n",
    "    [1, 0, 0, 1],\n",
    "    [1, 1, 1, 1],\n",
    "    [0, 0, 0, 0],\n",
    "    [0, 0, 0, 0]\n",
    "]\n",
    "out = ans.play(state, steps = 3, rule = Rules.CONWAY)"
   ]
  },
  {
   "cell_type": "code",
   "execution_count": 24,
   "id": "65ad9432",
   "metadata": {},
   "outputs": [
    {
     "data": {
      "image/png": "[encoded data removed]",
      "text/plain": [
       "<Figure size 432x288 with 1 Axes>"
      ]
     },
     "metadata": {
      "needs_background": "light"
     },
     "output_type": "display_data"
    }
   ],
   "source": [
    "fig, axs = plt.subplots()\n",
    "axs.imshow(~out[0], cmap = 'gray')\n",
    "axs.set_xticks(np.arange(len(state))+0.5)\n",
    "axs.set_yticks(np.arange(len(state))+0.5)\n",
    "axs.set_xticklabels([])\n",
    "axs.set_yticklabels([])\n",
    "axs.grid()\n",
    "plt.show()"
   ]
  },
  {
   "cell_type": "code",
   "execution_count": 5,
   "id": "45eee11a",
   "metadata": {},
   "outputs": [
    {
     "data": {
      "text/plain": [
       "array([[2., 4., 4., 2.],\n",
       "       [2., 3., 3., 2.],\n",
       "       [2., 3., 3., 2.],\n",
       "       [0., 0., 0., 0.]])"
      ]
     },
     "execution_count": 5,
     "metadata": {},
     "output_type": "execute_result"
    }
   ],
   "source": [
    "ans.get_alive_matrix(np.array(state))"
   ]
  },
  {
   "cell_type": "markdown",
   "id": "2b0cd07e",
   "metadata": {},
   "source": [
    "### Cycle Detection\n",
    "\n",
    "What is a cycle? Intuitively, we understand it as a set of alive cells -- we'll call it a contiguous set\n",
    "- we define contiguous as existing neighbors -- this means diagonals too\n",
    "\n",
    "A contiguous set of alive cells that either oscillates with a \"pair\" set or itself (identity)\n",
    "- let's call this other set its **complement**\n",
    "\n",
    "Can we create the fundamental operations for these automata? How can we define these?\n",
    "\n",
    "\n",
    "Fundamental operations:\n",
    "- and\n",
    "    - would this be superimposing a new cycle on top?\n",
    "- or\n",
    "- negate\n",
    "    - we have (cycle complement)\n",
    "    - this occurs by just updating...\n",
    "- identity\n",
    "    - this occurs by just updating...\n",
    "    \n",
    "Perhaps some cycles have their complement = identity. This would imply that Updating $\\equiv$ negating. No update is identity.\n",
    "- To call an update a negate is a very shady declaration ... it's not a pure negate\n",
    "- it is a deterministic function, but I'm sure we can disprove it using boolean logic\n",
    "    - ie, demonstrate update(A) = A and update(A)\n",
    "    - A = update(A) or A\n",
    "\n",
    "Perhaps we define the and/or operations as just the element-wise and/or of two states? What are the properties of these? What do they give us??\n",
    "\n",
    "Do we need to establish an inverse update? Is it an invertible function? Probably not"
   ]
  },
  {
   "cell_type": "code",
   "execution_count": 24,
   "id": "74f9eba7",
   "metadata": {},
   "outputs": [],
   "source": [
    "state = ans.get_random_state((2, 2))\n",
    "state"
   ]
  },
  {
   "cell_type": "code",
   "execution_count": 41,
   "id": "d2438b6e",
   "metadata": {},
   "outputs": [
    {
     "data": {
      "text/plain": [
       "True"
      ]
     },
     "execution_count": 41,
     "metadata": {},
     "output_type": "execute_result"
    }
   ],
   "source": [
    "np.all(atm.update([\n",
    "\t\t[0, 1, 1, 1, 0, 0],\n",
    "\t\t[0, 1, 0, 0, 0, 0]\n",
    "\t], rule = Rules.CONWAY) == [[0, 1, 1, 0, 0, 0], [0, 1, 0, 0, 0, 0]])"
   ]
  },
  {
   "cell_type": "code",
   "execution_count": 27,
   "id": "ebe7688b",
   "metadata": {},
   "outputs": [
    {
     "data": {
      "text/plain": [
       "array([[1, 1],\n",
       "       [1, 0]])"
      ]
     },
     "execution_count": 27,
     "metadata": {},
     "output_type": "execute_result"
    }
   ],
   "source": [
    "np.logical_and(atm.update(state), state).astype(int)"
   ]
  },
  {
   "cell_type": "code",
   "execution_count": 28,
   "id": "8790872c",
   "metadata": {},
   "outputs": [
    {
     "data": {
      "text/plain": [
       "array([[1, 1],\n",
       "       [1, 1]])"
      ]
     },
     "execution_count": 28,
     "metadata": {},
     "output_type": "execute_result"
    }
   ],
   "source": [
    "np.logical_or(atm.update(state), state).astype(int)"
   ]
  },
  {
   "cell_type": "code",
   "execution_count": 7,
   "id": "e4f45f26",
   "metadata": {},
   "outputs": [
    {
     "data": {
      "text/plain": [
       "array([[0, 0, 1, 1, 0],\n",
       "       [1, 1, 1, 0, 0],\n",
       "       [1, 0, 0, 0, 0],\n",
       "       [1, 0, 0, 0, 1],\n",
       "       [1, 1, 1, 0, 0]])"
      ]
     },
     "execution_count": 7,
     "metadata": {},
     "output_type": "execute_result"
    }
   ],
   "source": [
    "state = ans.get_random_state((5, 5))\n",
    "state"
   ]
  },
  {
   "cell_type": "code",
   "execution_count": 13,
   "id": "423b910d",
   "metadata": {},
   "outputs": [
    {
     "data": {
      "text/plain": [
       "array([[1, 1, 0, 0, 1],\n",
       "       [0, 0, 0, 1, 1],\n",
       "       [0, 1, 1, 1, 1],\n",
       "       [0, 1, 1, 1, 0],\n",
       "       [0, 0, 0, 1, 1]])"
      ]
     },
     "execution_count": 13,
     "metadata": {},
     "output_type": "execute_result"
    }
   ],
   "source": [
    "np.logical_not(state).astype(int)"
   ]
  },
  {
   "cell_type": "code",
   "execution_count": 24,
   "id": "397df0bc",
   "metadata": {},
   "outputs": [
    {
     "data": {
      "text/plain": [
       "array([[-1, -1],\n",
       "       [ 0, -1],\n",
       "       [ 1, -1],\n",
       "       [-1,  0],\n",
       "       [ 1,  0],\n",
       "       [-1,  1],\n",
       "       [ 0,  1],\n",
       "       [ 1,  1]])"
      ]
     },
     "execution_count": 24,
     "metadata": {},
     "output_type": "execute_result"
    }
   ],
   "source": [
    "atm.get_neighbors(0, 0)"
   ]
  },
  {
   "cell_type": "code",
   "execution_count": 22,
   "id": "ef1b8cd7",
   "metadata": {},
   "outputs": [
    {
     "data": {
      "image/png": "[encoded data removed]",
      "text/plain": [
       "<Figure size 432x288 with 1 Axes>"
      ]
     },
     "metadata": {
      "needs_background": "light"
     },
     "output_type": "display_data"
    }
   ],
   "source": [
    "state = ans.get_random_state((5, 5))\n",
    "\n",
    "total = 15\n",
    "states = ans.play(state, n = total)\n",
    "states_neg = ans.play(np.logical_not(state).astype(int), n = total)\n",
    "\n",
    "\n",
    "plt.plot(ans.get_survival_stats(states)[:, 0] / (state.shape[0] * state.shape[1]))\n",
    "plt.plot(ans.get_survival_stats(states_neg)[:, 0] / (state.shape[0] * state.shape[1]))\n",
    "plt.title('Survival for A, negation')\n",
    "plt.xlabel('Time')\n",
    "plt.ylabel('Pct Alive')\n",
    "plt.legend(labels = ['A', '~A'])\n",
    "plt.show()"
   ]
  },
  {
   "cell_type": "markdown",
   "id": "fc9d4509",
   "metadata": {},
   "source": [
    "### Testing Rule Integration"
   ]
  },
  {
   "cell_type": "code",
   "execution_count": 2,
   "id": "5f301f1d",
   "metadata": {},
   "outputs": [
    {
     "data": {
      "text/plain": [
       "array([[0, 0, 0, 1, 0, 0, 0]])"
      ]
     },
     "execution_count": 2,
     "metadata": {},
     "output_type": "execute_result"
    }
   ],
   "source": [
    "state = np.array([0,0,0,1,0,0,0]).reshape((1, -1))\n",
    "state"
   ]
  },
  {
   "cell_type": "code",
   "execution_count": 3,
   "id": "e42577c3",
   "metadata": {},
   "outputs": [
    {
     "name": "stdout",
     "output_type": "stream",
     "text": [
      "|      ██      |\n",
      "----------------------------\n",
      "|    ██████    |\n",
      "----------------------------\n",
      "|  ████    ██  |\n",
      "----------------------------\n",
      "|████  ████████|\n",
      "----------------------------\n",
      "|██    ██    ██|\n",
      "----------------------------\n",
      "|██████████████|\n",
      "----------------------------\n",
      "|██          ██|\n",
      "----------------------------\n",
      "|████      ████|\n",
      "----------------------------\n",
      "|██  ██  ██████|\n",
      "----------------------------\n"
     ]
    }
   ],
   "source": [
    "out = ans.play(state, steps = 10, rule = Rules.RULE30, verbose = True)"
   ]
  },
  {
   "cell_type": "code",
   "execution_count": 9,
   "id": "d7aa9251",
   "metadata": {},
   "outputs": [],
   "source": [
    "state = atm.get_random_state((5, 5))\n",
    "out = ans.play(state, steps = 10, rule = Rules.CONWAY)"
   ]
  },
  {
   "cell_type": "code",
   "execution_count": 11,
   "id": "acd48c9f",
   "metadata": {},
   "outputs": [
    {
     "ename": "ValueError",
     "evalue": "too many values to unpack (expected 2)",
     "output_type": "error",
     "traceback": [
      "\u001b[0;31m---------------------------------------------------------------------------\u001b[0m",
      "\u001b[0;31mValueError\u001b[0m                                Traceback (most recent call last)",
      "\u001b[0;32m/var/folders/cc/c6pxrx8n6wx77yf6_g8dvdw40000gn/T/ipykernel_6145/48032009.py\u001b[0m in \u001b[0;36m<module>\u001b[0;34m\u001b[0m\n\u001b[0;32m----> 1\u001b[0;31m \u001b[0mans\u001b[0m\u001b[0;34m.\u001b[0m\u001b[0mget_alive_matrix\u001b[0m\u001b[0;34m(\u001b[0m\u001b[0mout\u001b[0m\u001b[0;34m)\u001b[0m\u001b[0;34m\u001b[0m\u001b[0;34m\u001b[0m\u001b[0m\n\u001b[0m",
      "\u001b[0;32m~/Projects/research/cellular-automata/src/analysis.py\u001b[0m in \u001b[0;36mget_alive_matrix\u001b[0;34m(state)\u001b[0m\n\u001b[1;32m     29\u001b[0m         \u001b[0mstate\u001b[0m \u001b[0;34m=\u001b[0m \u001b[0matm\u001b[0m\u001b[0;34m.\u001b[0m\u001b[0mstate_fix\u001b[0m\u001b[0;34m(\u001b[0m\u001b[0mstate\u001b[0m\u001b[0;34m)\u001b[0m\u001b[0;34m\u001b[0m\u001b[0;34m\u001b[0m\u001b[0m\n\u001b[1;32m     30\u001b[0m \u001b[0;34m\u001b[0m\u001b[0m\n\u001b[0;32m---> 31\u001b[0;31m         \u001b[0mx\u001b[0m\u001b[0;34m,\u001b[0m \u001b[0my\u001b[0m \u001b[0;34m=\u001b[0m \u001b[0mstate\u001b[0m\u001b[0;34m.\u001b[0m\u001b[0mshape\u001b[0m\u001b[0;34m\u001b[0m\u001b[0;34m\u001b[0m\u001b[0m\n\u001b[0m\u001b[1;32m     32\u001b[0m         \u001b[0malive_mat\u001b[0m \u001b[0;34m=\u001b[0m \u001b[0mnp\u001b[0m\u001b[0;34m.\u001b[0m\u001b[0mzeros\u001b[0m\u001b[0;34m(\u001b[0m\u001b[0mstate\u001b[0m\u001b[0;34m.\u001b[0m\u001b[0mshape\u001b[0m\u001b[0;34m,\u001b[0m \u001b[0mdtype\u001b[0m \u001b[0;34m=\u001b[0m \u001b[0mint\u001b[0m\u001b[0;34m)\u001b[0m\u001b[0;34m\u001b[0m\u001b[0;34m\u001b[0m\u001b[0m\n\u001b[1;32m     33\u001b[0m         \u001b[0;32mfor\u001b[0m \u001b[0mi\u001b[0m \u001b[0;32min\u001b[0m \u001b[0mrange\u001b[0m\u001b[0;34m(\u001b[0m\u001b[0mx\u001b[0m\u001b[0;34m)\u001b[0m\u001b[0;34m:\u001b[0m\u001b[0;34m\u001b[0m\u001b[0;34m\u001b[0m\u001b[0m\n",
      "\u001b[0;31mValueError\u001b[0m: too many values to unpack (expected 2)"
     ]
    }
   ],
   "source": [
    "ans.get_alive_matrix(out)"
   ]
  },
  {
   "cell_type": "code",
   "execution_count": 15,
   "id": "d9054d01",
   "metadata": {},
   "outputs": [
    {
     "data": {
      "text/plain": [
       "array([[1, 0, 0, 1, 1],\n",
       "       [0, 1, 1, 0, 0],\n",
       "       [0, 0, 1, 1, 1],\n",
       "       [0, 1, 0, 1, 1],\n",
       "       [0, 1, 0, 0, 0]])"
      ]
     },
     "execution_count": 15,
     "metadata": {},
     "output_type": "execute_result"
    }
   ],
   "source": [
    "out[0]"
   ]
  },
  {
   "cell_type": "code",
   "execution_count": 26,
   "id": "0aa0022c",
   "metadata": {},
   "outputs": [
    {
     "data": {
      "text/plain": [
       "array([[1, 0],\n",
       "       [0, 1],\n",
       "       [1, 1]])"
      ]
     },
     "execution_count": 26,
     "metadata": {},
     "output_type": "execute_result"
    }
   ],
   "source": [
    "atm.get_neighbors(0, 0, (5,5))"
   ]
  },
  {
   "cell_type": "code",
   "execution_count": 35,
   "id": "f62c5f18",
   "metadata": {},
   "outputs": [],
   "source": [
    "f = np.vectorize(ans.get_alive_matrix)"
   ]
  },
  {
   "cell_type": "code",
   "execution_count": 39,
   "id": "6c79138d",
   "metadata": {},
   "outputs": [
    {
     "data": {
      "text/plain": [
       "array([[1, 3, 3, 2, 1],\n",
       "       [2, 3, 4, 6, 4],\n",
       "       [2, 4, 5, 5, 3],\n",
       "       [2, 2, 5, 4, 3],\n",
       "       [2, 1, 3, 2, 2]])"
      ]
     },
     "execution_count": 39,
     "metadata": {},
     "output_type": "execute_result"
    }
   ],
   "source": [
    "ans.get_alive_matrix(out[0])"
   ]
  },
  {
   "cell_type": "code",
   "execution_count": 40,
   "id": "110fb79a",
   "metadata": {},
   "outputs": [
    {
     "data": {
      "text/plain": [
       "array([[2, 2, 3, 1, 1],\n",
       "       [2, 2, 4, 3, 2],\n",
       "       [2, 2, 2, 2, 1],\n",
       "       [1, 1, 2, 3, 1],\n",
       "       [1, 2, 1, 2, 1]])"
      ]
     },
     "execution_count": 40,
     "metadata": {},
     "output_type": "execute_result"
    }
   ],
   "source": [
    "ans.get_alive_matrix(out[1])"
   ]
  },
  {
   "cell_type": "code",
   "execution_count": 72,
   "id": "96dbf82a",
   "metadata": {},
   "outputs": [
    {
     "data": {
      "text/plain": [
       "2.25"
      ]
     },
     "execution_count": 72,
     "metadata": {},
     "output_type": "execute_result"
    }
   ],
   "source": [
    "am = ans.get_alive_matrix(out[0])\n",
    "am[0:2, 0:2].mean()"
   ]
  },
  {
   "cell_type": "code",
   "execution_count": 77,
   "id": "a4f65937",
   "metadata": {},
   "outputs": [
    {
     "data": {
      "text/plain": [
       "array([[1, 3, 3, 2, 1],\n",
       "       [2, 3, 4, 6, 4],\n",
       "       [2, 4, 5, 5, 3],\n",
       "       [2, 2, 5, 4, 3],\n",
       "       [2, 1, 3, 2, 2]])"
      ]
     },
     "execution_count": 77,
     "metadata": {},
     "output_type": "execute_result"
    }
   ],
   "source": [
    "am"
   ]
  },
  {
   "cell_type": "code",
   "execution_count": 79,
   "id": "6351938d",
   "metadata": {},
   "outputs": [
    {
     "data": {
      "text/plain": [
       "array([[1, 3, 3, 2, 1],\n",
       "       [2, 4, 5, 6, 4]])"
      ]
     },
     "execution_count": 79,
     "metadata": {},
     "output_type": "execute_result"
    }
   ],
   "source": [
    "np.maximum.reduceat(am, [0, 1])"
   ]
  },
  {
   "cell_type": "code",
   "execution_count": 59,
   "id": "4d2d1964",
   "metadata": {},
   "outputs": [
    {
     "data": {
      "image/png": "[encoded data removed]",
      "text/plain": [
       "<Figure size 432x288 with 1 Axes>"
      ]
     },
     "metadata": {
      "needs_background": "light"
     },
     "output_type": "display_data"
    }
   ],
   "source": [
    "plt.imshow(np.cov(out[0].reshape(-1), out[1].reshape(-1)), cmap = 'gray')\n",
    "plt.show()"
   ]
  },
  {
   "cell_type": "code",
   "execution_count": 54,
   "id": "1d8afd75",
   "metadata": {},
   "outputs": [],
   "source": [
    "cov = np.array([np.cov(out[i], out[i+1]).reshape(-1) for i in range(out.shape[0]-1)])"
   ]
  },
  {
   "cell_type": "code",
   "execution_count": 55,
   "id": "2d69bfbf",
   "metadata": {},
   "outputs": [
    {
     "data": {
      "text/plain": [
       "(9, 100)"
      ]
     },
     "execution_count": 55,
     "metadata": {},
     "output_type": "execute_result"
    }
   ],
   "source": [
    "cov.shape"
   ]
  },
  {
   "cell_type": "code",
   "execution_count": 57,
   "id": "16f19223",
   "metadata": {},
   "outputs": [
    {
     "data": {
      "image/png": "[encoded data removed]",
      "text/plain": [
       "<Figure size 432x288 with 1 Axes>"
      ]
     },
     "metadata": {
      "needs_background": "light"
     },
     "output_type": "display_data"
    }
   ],
   "source": [
    "plt.plot(cov)\n",
    "plt.show()"
   ]
  },
  {
   "cell_type": "markdown",
   "id": "350b2f5d",
   "metadata": {},
   "source": [
    "---\n",
    "# Detecting Cycles"
   ]
  },
  {
   "cell_type": "code",
   "execution_count": 2,
   "id": "f1d284e5",
   "metadata": {},
   "outputs": [],
   "source": [
    "state = np.array([\n",
    "    [0, 0, 0, 0, 0, 0, 0, 0, 0, 0, 0, 0, 0, 0, 0, 0, 0, 0, 0, 0, 0, 0],\n",
    "    [0, 0, 0, 0, 0, 1, 0, 0, 0, 0, 0, 0, 0, 0, 0, 0, 0, 0, 0, 0, 0, 0],\n",
    "    [0, 0, 0, 0, 0, 1, 0, 0, 0, 0, 0, 0, 0, 0, 0, 0, 0, 0, 0, 0, 0, 0],\n",
    "    [0, 0, 0, 0, 0, 1, 0, 0, 0, 0, 0, 0, 0, 0, 0, 1, 0, 0, 0, 0, 0, 0],\n",
    "    [0, 0, 0, 0, 0, 0, 0, 0, 0, 0, 0, 0, 0, 0, 0, 1, 1, 0, 0, 0, 0, 0],\n",
    "    [0, 1, 1, 1, 0, 0, 0, 1, 1, 1, 0, 0, 0, 0, 0, 1, 1, 1, 0, 0, 0, 0],\n",
    "    [0, 0, 0, 0, 0, 0, 0, 0, 0, 0, 0, 0, 0, 0, 0, 0, 1, 0, 0, 0, 0, 0],\n",
    "    [0, 0, 0, 0, 0, 1, 0, 0, 0, 0, 0, 0, 0, 0, 0, 0, 0, 0, 0, 0, 0, 0],\n",
    "    [0, 0, 0, 0, 0, 1, 0, 0, 0, 0, 0, 0, 0, 0, 0, 0, 0, 0, 0, 0, 0, 0],\n",
    "    [0, 0, 0, 0, 0, 1, 0, 0, 0, 0, 0, 0, 0, 0, 0, 0, 0, 0, 0, 0, 0, 0],\n",
    "    [0, 0, 0, 0, 0, 0, 0, 0, 0, 0, 0, 0, 0, 0, 0, 0, 0, 0, 0, 0, 0, 0]\n",
    "], dtype = int)"
   ]
  },
  {
   "cell_type": "code",
   "execution_count": 43,
   "id": "3d1b98ec",
   "metadata": {},
   "outputs": [],
   "source": [
    "state_no_cycle = atm.get_random_state((11,11))"
   ]
  },
  {
   "cell_type": "code",
   "execution_count": 5,
   "id": "ef92f1aa",
   "metadata": {},
   "outputs": [
    {
     "data": {
      "text/plain": [
       "(3, 11, 22)"
      ]
     },
     "execution_count": 5,
     "metadata": {},
     "output_type": "execute_result"
    }
   ],
   "source": [
    "states.shape"
   ]
  },
  {
   "cell_type": "code",
   "execution_count": 3,
   "id": "5829018b",
   "metadata": {},
   "outputs": [],
   "source": [
    "states = sim.play(state, steps = 3, rule = Rules.CONWAY)"
   ]
  },
  {
   "cell_type": "code",
   "execution_count": 4,
   "id": "2acc4202",
   "metadata": {},
   "outputs": [
    {
     "data": {
      "image/png": "[encoded data removed]",
      "text/plain": [
       "<Figure size 432x288 with 1 Axes>"
      ]
     },
     "metadata": {
      "needs_background": "light"
     },
     "output_type": "display_data"
    },
    {
     "data": {
      "image/png": "[encoded data removed]",
      "text/plain": [
       "<Figure size 432x288 with 1 Axes>"
      ]
     },
     "metadata": {
      "needs_background": "light"
     },
     "output_type": "display_data"
    },
    {
     "data": {
      "image/png": "[encoded data removed]",
      "text/plain": [
       "<Figure size 432x288 with 1 Axes>"
      ]
     },
     "metadata": {
      "needs_background": "light"
     },
     "output_type": "display_data"
    }
   ],
   "source": [
    "for i in range(3):\n",
    "    ans.plot_state(states[i])"
   ]
  },
  {
   "cell_type": "code",
   "execution_count": 45,
   "id": "a13c2518",
   "metadata": {},
   "outputs": [],
   "source": [
    "states_no_cycle = sim.play(state_no_cycle, steps = 3, rule = Rules.CONWAY)"
   ]
  },
  {
   "cell_type": "code",
   "execution_count": 48,
   "id": "f4fdc4a8",
   "metadata": {},
   "outputs": [
    {
     "data": {
      "image/png": "[encoded data removed]",
      "text/plain": [
       "<Figure size 1440x720 with 6 Axes>"
      ]
     },
     "metadata": {
      "needs_background": "light"
     },
     "output_type": "display_data"
    }
   ],
   "source": [
    "fig, axs = plt.subplots(2, 2, figsize = (20, 10))\n",
    "s0 = axs[0, 0].imshow(states_no_cycle[0] == states_no_cycle[1], cmap = 'gray')\n",
    "s1 = axs[0, 1].imshow(states_no_cycle[0] & states_no_cycle[1], cmap = 'gray')\n",
    "s2 = axs[1, 0].imshow(states_no_cycle[0] != states_no_cycle[1], cmap = 'gray')\n",
    "s3 = axs[1, 1].imshow(states_no_cycle[0] | states_no_cycle[1], cmap = 'gray')\n",
    "\n",
    "# a ==b is equiv ! (a xor b)\n",
    "axs[0, 0].set_title('a == b')\n",
    "axs[0, 1].set_title('a & b')\n",
    "axs[1, 0].set_title('a != b')\n",
    "axs[1, 1].set_title('a | b')\n",
    "\n",
    "\n",
    "fig.colorbar(s0, ax = axs[0], ticks = [0, 1], shrink = 0.5)\n",
    "fig.colorbar(s1, ax = axs[1], ticks = [0, 1], shrink = 0.5)\n",
    "plt.show()"
   ]
  },
  {
   "cell_type": "code",
   "execution_count": 16,
   "id": "0e94c8ec",
   "metadata": {},
   "outputs": [
    {
     "data": {
      "image/png": "[encoded data removed]",
      "text/plain": [
       "<Figure size 432x288 with 1 Axes>"
      ]
     },
     "metadata": {
      "needs_background": "light"
     },
     "output_type": "display_data"
    }
   ],
   "source": [
    "# T = 2 oscillating cycle\n",
    "plt.imshow(states[0] == states[2], cmap = 'gray')\n",
    "plt.show()"
   ]
  },
  {
   "cell_type": "code",
   "execution_count": 5,
   "id": "95568420",
   "metadata": {},
   "outputs": [
    {
     "data": {
      "image/png": "[encoded data removed]",
      "text/plain": [
       "<Figure size 1440x720 with 6 Axes>"
      ]
     },
     "metadata": {
      "needs_background": "light"
     },
     "output_type": "display_data"
    }
   ],
   "source": [
    "fig, axs = plt.subplots(2, 2, figsize = (20, 10))\n",
    "s0 = axs[0, 0].imshow(states[0] == states[1], cmap = 'gray')\n",
    "s1 = axs[0, 1].imshow(states[0] & states[1], cmap = 'gray')\n",
    "s2 = axs[1, 0].imshow(states[0] != states[1], cmap = 'gray')\n",
    "s3 = axs[1, 1].imshow(states[0] | states[1], cmap = 'gray')\n",
    "\n",
    "# a ==b is equiv ! (a xor b)\n",
    "axs[0, 0].set_title('a == b')\n",
    "axs[0, 1].set_title('a & b')\n",
    "axs[1, 0].set_title('a != b')\n",
    "axs[1, 1].set_title('a | b')\n",
    "\n",
    "\n",
    "fig.colorbar(s0, ax = axs[0], ticks = [0, 1], shrink = 0.5)\n",
    "fig.colorbar(s1, ax = axs[1], ticks = [0, 1], shrink = 0.5)\n",
    "plt.show()"
   ]
  },
  {
   "cell_type": "markdown",
   "id": "74e2311e",
   "metadata": {},
   "source": [
    "Idea -- Consider the $a \\lor b$ chart. It is the union of the cells in a and b right. It is symmetrical in 2 dimensions. Does this imply that it will always be a cycle?"
   ]
  },
  {
   "cell_type": "code",
   "execution_count": 6,
   "id": "13607e9c",
   "metadata": {},
   "outputs": [
    {
     "data": {
      "image/png": "[encoded data removed]",
      "text/plain": [
       "<Figure size 432x288 with 2 Axes>"
      ]
     },
     "metadata": {
      "needs_background": "light"
     },
     "output_type": "display_data"
    }
   ],
   "source": [
    "plt.imshow(stats.get_alive_matrix(states[1]) - stats.get_alive_matrix(states[0]), cmap = 'gray')\n",
    "plt.colorbar()\n",
    "plt.show()"
   ]
  },
  {
   "cell_type": "code",
   "execution_count": 49,
   "id": "ed9be12c",
   "metadata": {},
   "outputs": [
    {
     "data": {
      "image/png": "[encoded data removed]",
      "text/plain": [
       "<Figure size 432x288 with 2 Axes>"
      ]
     },
     "metadata": {
      "needs_background": "light"
     },
     "output_type": "display_data"
    }
   ],
   "source": [
    "plt.imshow(stats.get_alive_matrix(states_no_cycle[1]) - stats.get_alive_matrix(states_no_cycle[0]), cmap = 'gray')\n",
    "plt.colorbar()\n",
    "plt.show()"
   ]
  },
  {
   "cell_type": "code",
   "execution_count": null,
   "id": "4ca6e951",
   "metadata": {},
   "outputs": [],
   "source": [
    "states_no_cycle"
   ]
  }
 ],
 "metadata": {
  "kernelspec": {
   "display_name": "Python 3 (ipykernel)",
   "language": "python",
   "name": "python3"
  },
  "language_info": {
   "codemirror_mode": {
    "name": "ipython",
    "version": 3
   },
   "file_extension": ".py",
   "mimetype": "text/x-python",
   "name": "python",
   "nbconvert_exporter": "python",
   "pygments_lexer": "ipython3",
   "version": "3.8.0"
  }
 },
 "nbformat": 4,
 "nbformat_minor": 5
}
