{
 "cells": [
  {
   "cell_type": "code",
   "execution_count": 1,
   "id": "c7fa2f7d",
   "metadata": {},
   "outputs": [],
   "source": [
    "import numpy as np\n",
    "import pandas as pd\n",
    "import matplotlib.pyplot as plt\n",
    "\n",
    "import sys\n",
    "sys.path.append('../src')\n",
    "import sim.automata as atm\n",
    "import analysis.analysis as ans\n",
    "import analysis.stats as stats\n",
    "from sim.rules import Rules\n",
    "import sim.sim as sim\n",
    "\n",
    "from machine_learning.q_learning_agents import QLearningAgent\n",
    "from machine_learning.state import State"
   ]
  },
  {
   "cell_type": "code",
   "execution_count": 2,
   "id": "d8f748a2",
   "metadata": {},
   "outputs": [
    {
     "data": {
      "image/png": "[encoded data removed]",
      "text/plain": [
       "<Figure size 432x288 with 1 Axes>"
      ]
     },
     "metadata": {
      "needs_background": "light"
     },
     "output_type": "display_data"
    }
   ],
   "source": [
    "np.random.seed(0)\n",
    "init_state = State(atm.get_random_state((50, 50)), Rules.CONWAY)\n",
    "#print(init_state)\n",
    "ans.plot_state(init_state.values)"
   ]
  },
  {
   "cell_type": "code",
   "execution_count": 7,
   "id": "b8860448",
   "metadata": {},
   "outputs": [],
   "source": [
    "action_func = lambda state: np.append(np.arange(state.shape[0]*state.shape[1])[state.flat == 0], [-1])\n",
    "reward_func = lambda state: stats.get_total_alive(state.values)"
   ]
  },
  {
   "cell_type": "code",
   "execution_count": 12,
   "id": "f5eeea1a",
   "metadata": {},
   "outputs": [],
   "source": [
    "from tqdm.notebook import tqdm, trange"
   ]
  },
  {
   "cell_type": "code",
   "execution_count": 13,
   "id": "4ecf1cf2",
   "metadata": {},
   "outputs": [],
   "source": [
    "def run(init_state, action_func, reward_func, episode_length = 10, num_training = 100, num_testing = 100):\n",
    "    agent = QLearningAgent(action_func = action_func, reward_func = reward_func, num_training = num_training)\n",
    "    \n",
    "    state = init_state.copy()\n",
    "    \n",
    "    train_rewards = []\n",
    "    test_rewards = []\n",
    "    \n",
    "    pbar = tqdm(total = agent.num_training + num_testing)\n",
    "    while agent.episodes_so_far < agent.num_training + num_testing:\n",
    "        \n",
    "        agent.start_episode()\n",
    "        for i in range(episode_length):\n",
    "            _ = agent.observe_function(state)\n",
    "            \n",
    "            action = agent.get_action(state)\n",
    "            agent.do_action(state, action)\n",
    "            \n",
    "            state = state.get_successor(action)\n",
    "        \n",
    "        agent.stop_episode()\n",
    "        \n",
    "        if agent.is_in_training():\n",
    "            train_rewards += [agent.accum_train_rewards]\n",
    "        else:\n",
    "            test_rewards += [agent.accum_test_rewards]\n",
    "            \n",
    "        pbar.update(1)\n",
    "    pbar.close()\n",
    "    \n",
    "    \n",
    "    plt.plot(np.arange(agent.num_training-1), train_rewards)\n",
    "    plt.plot(np.arange(agent.num_training, agent.num_training + num_testing + 1), test_rewards)\n",
    "    plt.show()\n",
    "    \n",
    "    \n",
    "    return agent"
   ]
  },
  {
   "cell_type": "markdown",
   "id": "cfd74c68",
   "metadata": {},
   "source": [
    "- why are delta rewards for training so negative?\n",
    "    - the reward func for a CA changes rapidly and dramatically, so not unlikely for this to happen\n",
    "    - it is implemented correctly\n",
    "- funcs to save and reload agents fromn file\n",
    "- converting this to a web server that we can usye to trck training/testing and easilty plot out\n",
    "    - want to be able to queue different training based on different hyper parameters\n",
    "- we need to define a better reward function for detecting cycles\n",
    "\n",
    "- update the shit out of the readme"
   ]
  },
  {
   "cell_type": "code",
   "execution_count": 14,
   "id": "b6dc7f62",
   "metadata": {},
   "outputs": [
    {
     "data": {
      "application/vnd.jupyter.widget-view+json": {
       "model_id": "a70cf35c1c3f441488196003d2b47d9a",
       "version_major": 2,
       "version_minor": 0
      },
      "text/plain": [
       "  0%|          | 0/1500 [00:00<?, ?it/s]"
      ]
     },
     "metadata": {},
     "output_type": "display_data"
    },
    {
     "name": "stderr",
     "output_type": "stream",
     "text": [
      "  0%|▏                                                                                | 4/1500 [00:53<5:31:44, 13.30s/it]\n"
     ]
    },
    {
     "data": {
      "image/png": "[encoded data removed]",
      "text/plain": [
       "<Figure size 432x288 with 1 Axes>"
      ]
     },
     "metadata": {
      "needs_background": "light"
     },
     "output_type": "display_data"
    }
   ],
   "source": [
    "agent = run(init_state, action_func, reward_func, num_training = 1000, num_testing = 500)"
   ]
  },
  {
   "cell_type": "code",
   "execution_count": 15,
   "id": "dda8f4c4",
   "metadata": {},
   "outputs": [
    {
     "data": {
      "text/plain": [
       "False"
      ]
     },
     "execution_count": 15,
     "metadata": {},
     "output_type": "execute_result"
    }
   ],
   "source": [
    "agent.is_in_testing()"
   ]
  },
  {
   "cell_type": "code",
   "execution_count": 18,
   "id": "ff27c8fd",
   "metadata": {},
   "outputs": [
    {
     "data": {
      "text/plain": [
       "(40, 47)"
      ]
     },
     "execution_count": 18,
     "metadata": {},
     "output_type": "execute_result"
    }
   ],
   "source": [
    "agent.get_action(init_state) // 50, agent.get_action(init_state) % 50"
   ]
  },
  {
   "cell_type": "code",
   "execution_count": 3,
   "id": "b4dfee5e",
   "metadata": {},
   "outputs": [],
   "source": [
    "states = sim.play(init_state.values, steps = 100)"
   ]
  },
  {
   "cell_type": "code",
   "execution_count": null,
   "id": "1ac594b3",
   "metadata": {},
   "outputs": [],
   "source": []
  },
  {
   "cell_type": "code",
   "execution_count": 7,
   "id": "13a2cb97",
   "metadata": {},
   "outputs": [
    {
     "data": {
      "image/png": "[encoded data removed]",
      "text/plain": [
       "<Figure size 432x288 with 1 Axes>"
      ]
     },
     "metadata": {
      "needs_background": "light"
     },
     "output_type": "display_data"
    },
    {
     "data": {
      "image/png": "[encoded data removed]",
      "text/plain": [
       "<Figure size 432x288 with 1 Axes>"
      ]
     },
     "metadata": {
      "needs_background": "light"
     },
     "output_type": "display_data"
    },
    {
     "data": {
      "image/png": "[encoded data removed]",
      "text/plain": [
       "<Figure size 432x288 with 1 Axes>"
      ]
     },
     "metadata": {
      "needs_background": "light"
     },
     "output_type": "display_data"
    }
   ],
   "source": [
    "ans.plot_state(states[0])\n",
    "ans.plot_state(states[1])\n",
    "ans.plot_state(states[2])"
   ]
  },
  {
   "cell_type": "code",
   "execution_count": 8,
   "id": "f86e541a",
   "metadata": {},
   "outputs": [
    {
     "data": {
      "image/png": "[encoded data removed]",
      "text/plain": [
       "<Figure size 432x288 with 1 Axes>"
      ]
     },
     "metadata": {
      "needs_background": "light"
     },
     "output_type": "display_data"
    }
   ],
   "source": [
    "ans.plot_state(init_state.values)"
   ]
  },
  {
   "cell_type": "markdown",
   "id": "40f79b79",
   "metadata": {},
   "source": [
    " --- "
   ]
  },
  {
   "cell_type": "code",
   "execution_count": 24,
   "id": "7f78f0a0",
   "metadata": {},
   "outputs": [
    {
     "data": {
      "image/png": "[encoded data removed]",
      "text/plain": [
       "<Figure size 432x288 with 1 Axes>"
      ]
     },
     "metadata": {
      "needs_background": "light"
     },
     "output_type": "display_data"
    }
   ],
   "source": [
    "state = np.array([\n",
    "    [0, 0, 0, 0, 0, 0, 0, 0, 0, 0, 0],\n",
    "    [0, 0, 0, 0, 0, 1, 0, 0, 0, 0, 0],\n",
    "    [0, 0, 0, 0, 0, 1, 0, 0, 0, 0, 0],\n",
    "    [0, 0, 0, 0, 0, 1, 0, 0, 0, 0, 0],\n",
    "    [0, 0, 0, 0, 0, 0, 0, 0, 0, 0, 0],\n",
    "    [0, 1, 1, 1, 0, 0, 0, 1, 1, 1, 0],\n",
    "    [0, 0, 0, 0, 0, 0, 0, 0, 0, 0, 0],\n",
    "    [0, 0, 0, 0, 0, 1, 0, 0, 0, 0, 0],\n",
    "    [0, 0, 0, 0, 0, 1, 0, 0, 0, 0, 0],\n",
    "    [0, 0, 0, 0, 0, 1, 0, 0, 0, 0, 0],\n",
    "    [0, 0, 0, 0, 0, 0, 0, 0, 0, 0, 0]\n",
    "], dtype = int)\n",
    "ans.plot_state(state)"
   ]
  },
  {
   "cell_type": "code",
   "execution_count": null,
   "id": "3aa86906",
   "metadata": {},
   "outputs": [],
   "source": [
    "\"\""
   ]
  }
 ],
 "metadata": {
  "kernelspec": {
   "display_name": "Python 3 (ipykernel)",
   "language": "python",
   "name": "python3"
  },
  "language_info": {
   "codemirror_mode": {
    "name": "ipython",
    "version": 3
   },
   "file_extension": ".py",
   "mimetype": "text/x-python",
   "name": "python",
   "nbconvert_exporter": "python",
   "pygments_lexer": "ipython3",
   "version": "3.8.0"
  }
 },
 "nbformat": 4,
 "nbformat_minor": 5
}
