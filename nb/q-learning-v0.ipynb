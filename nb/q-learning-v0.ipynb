{
 "cells": [
  {
   "cell_type": "code",
   "execution_count": 1,
   "id": "dfa06e9c",
   "metadata": {},
   "outputs": [],
   "source": [
    "import numpy as np\n",
    "import pandas as pd\n",
    "import matplotlib.pyplot as plt\n",
    "\n",
    "import sys\n",
    "sys.path.append('../src')\n",
    "import sim.automata as atm\n",
    "import analysis.analysis as ans\n",
    "import analysis.stats as stats\n",
    "from sim.rules import Rules\n",
    "\n",
    "from machine_learning.q_learning_agents import QLearningAgent\n",
    "from machine_learning.state import State"
   ]
  },
  {
   "cell_type": "code",
   "execution_count": 60,
   "id": "819e4f6a",
   "metadata": {},
   "outputs": [
    {
     "data": {
      "image/png": "[encoded data removed]",
      "text/plain": [
       "<Figure size 432x288 with 1 Axes>"
      ]
     },
     "metadata": {
      "needs_background": "light"
     },
     "output_type": "display_data"
    }
   ],
   "source": [
    "np.random.seed(0)\n",
    "init_state = State(atm.get_random_state((50, 50)), Rules.CONWAY)\n",
    "#print(init_state)\n",
    "ans.plot_state(init_state.values)"
   ]
  },
  {
   "cell_type": "code",
   "execution_count": 61,
   "id": "aa09247e",
   "metadata": {},
   "outputs": [],
   "source": [
    "# we need to define an action function to obtain the legal actions, which would involve placing\n",
    "# anywhere that is not alive on the board.\n",
    "\n",
    "# then, how to evaluate said action\n",
    "\n",
    "action_func = lambda state: np.arange(state.shape[0]*state.shape[1])[state.flat == 0]\n",
    "reward_func = lambda state: (state.values == 1).sum()"
   ]
  },
  {
   "cell_type": "code",
   "execution_count": 11,
   "id": "b0d18019",
   "metadata": {},
   "outputs": [],
   "source": [
    "from tqdm import tqdm, trange"
   ]
  },
  {
   "cell_type": "code",
   "execution_count": 63,
   "id": "58703675",
   "metadata": {},
   "outputs": [],
   "source": [
    "def run(init_state, action_func, reward_func, episode_length = 10, num_training = 100, num_testing = 100):\n",
    "    agent = QLearningAgent(action_func = action_func, reward_func = reward_func, num_training = num_training)\n",
    "    \n",
    "    state = init_state.copy()\n",
    "    \n",
    "    train_rewards = []\n",
    "    test_rewards = []\n",
    "    \n",
    "    pbar = tqdm(total = agent.num_training + num_testing)\n",
    "    while agent.episodes_so_far < agent.num_training + num_testing:\n",
    "        \n",
    "        agent.start_episode()\n",
    "        for i in range(episode_length):\n",
    "            _ = agent.observe_function(state)\n",
    "            \n",
    "            action = agent.get_action(state)\n",
    "            agent.do_action(state, action)\n",
    "            \n",
    "            state = state.get_successor(action)\n",
    "        \n",
    "        agent.stop_episode()\n",
    "        \n",
    "        if agent.is_in_training():\n",
    "            train_rewards += [agent.accum_train_rewards]\n",
    "        else:\n",
    "            test_rewards += [agent.accum_test_rewards]\n",
    "            \n",
    "        pbar.update(1)\n",
    "    pbar.close()\n",
    "    \n",
    "    \n",
    "    plt.plot(np.arange(agent.num_training-1), train_rewards)\n",
    "    plt.plot(np.arange(agent.num_training, agent.num_training + num_testing + 1), test_rewards)\n",
    "    plt.show()\n",
    "    \n",
    "    \n",
    "    return agent"
   ]
  },
  {
   "cell_type": "code",
   "execution_count": null,
   "id": "863b67a5",
   "metadata": {},
   "outputs": [
    {
     "name": "stderr",
     "output_type": "stream",
     "text": [
      " 18%|███████████████▏                                                                   | 73/400 [02:50<12:51,  2.36s/it]"
     ]
    }
   ],
   "source": [
    "agent = run(init_state, action_func, reward_func, num_training = 200, num_testing = 200)"
   ]
  },
  {
   "cell_type": "code",
   "execution_count": 19,
   "id": "f08dd2a2",
   "metadata": {},
   "outputs": [
    {
     "data": {
      "image/png": "[encoded data removed]",
      "text/plain": [
       "<Figure size 432x288 with 1 Axes>"
      ]
     },
     "metadata": {
      "needs_background": "light"
     },
     "output_type": "display_data"
    }
   ],
   "source": [
    "ans.plot_state(init_state.values)"
   ]
  },
  {
   "cell_type": "code",
   "execution_count": 41,
   "id": "a23d5df3",
   "metadata": {},
   "outputs": [
    {
     "name": "stdout",
     "output_type": "stream",
     "text": [
      "20. Test Rewards: 12.0\n"
     ]
    }
   ],
   "source": [
    "if agent.is_in_training():\n",
    "    print(f\"{agent.episodes_so_far}. Train Rewards: {agent.accum_train_rewards}\")\n",
    "else:\n",
    "    print(f\"{agent.episodes_so_far}. Test Rewards: {agent.accum_test_rewards}\")"
   ]
  },
  {
   "cell_type": "code",
   "execution_count": null,
   "id": "d71f9f94",
   "metadata": {},
   "outputs": [],
   "source": []
  }
 ],
 "metadata": {
  "kernelspec": {
   "display_name": "Python 3 (ipykernel)",
   "language": "python",
   "name": "python3"
  },
  "language_info": {
   "codemirror_mode": {
    "name": "ipython",
    "version": 3
   },
   "file_extension": ".py",
   "mimetype": "text/x-python",
   "name": "python",
   "nbconvert_exporter": "python",
   "pygments_lexer": "ipython3",
   "version": "3.8.0"
  }
 },
 "nbformat": 4,
 "nbformat_minor": 5
}
